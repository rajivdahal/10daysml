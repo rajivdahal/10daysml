{
 "cells": [
  {
   "cell_type": "markdown",
   "id": "electric-style",
   "metadata": {},
   "source": [
    "# data augmentation"
   ]
  },
  {
   "cell_type": "code",
   "execution_count": null,
   "id": "macro-refund",
   "metadata": {},
   "outputs": [],
   "source": [
    "from keras.preprocessing.image import ImageDataGenerator, array_to_img, img_to_array, load_img"
   ]
  },
  {
   "cell_type": "code",
   "execution_count": 12,
   "id": "ignored-thinking",
   "metadata": {
    "scrolled": false
   },
   "outputs": [],
   "source": [
    "datagen=ImageDataGenerator(\n",
    "    rotation_range=40,\n",
    "    width_shift_range=0.2,\n",
    "    height_shift_range=0.2,\n",
    "    brightness_range=None,\n",
    "    shear_range=0.3,\n",
    "    zoom_range=0.24,\n",
    "    horizontal_flip=True,\n",
    "    vertical_flip=True,\n",
    "    fill_mode=\"nearest\"\n",
    ")\n",
    "\n",
    "\n"
   ]
  },
  {
   "cell_type": "code",
   "execution_count": 15,
   "id": "thick-verse",
   "metadata": {},
   "outputs": [],
   "source": [
    "img=load_img(\"cat.jpg\")\n",
    "x=img_to_array(img)\n",
    "x=x.reshape((1,)+x.shape) # only four dm array is accepted by datagen.flow so making 4 dim"
   ]
  },
  {
   "cell_type": "code",
   "execution_count": 18,
   "id": "demographic-henry",
   "metadata": {},
   "outputs": [],
   "source": [
    "i=1\n",
    "for batch in datagen.flow(x,batch_size=1,save_to_dir=\"preview\",save_prefix=\"cat\",save_format=\"jpeg\"):#batch_size=1:one image at one time in a loop,preview dir must be there,prefix must be given \n",
    "    i=i+1\n",
    "    if i>20:\n",
    "        break"
   ]
  },
  {
   "cell_type": "code",
   "execution_count": null,
   "id": "ignored-astrology",
   "metadata": {},
   "outputs": [],
   "source": []
  }
 ],
 "metadata": {
  "kernelspec": {
   "display_name": "Python 3",
   "language": "python",
   "name": "python3"
  },
  "language_info": {
   "codemirror_mode": {
    "name": "ipython",
    "version": 3
   },
   "file_extension": ".py",
   "mimetype": "text/x-python",
   "name": "python",
   "nbconvert_exporter": "python",
   "pygments_lexer": "ipython3",
   "version": "3.9.2"
  }
 },
 "nbformat": 4,
 "nbformat_minor": 5
}
