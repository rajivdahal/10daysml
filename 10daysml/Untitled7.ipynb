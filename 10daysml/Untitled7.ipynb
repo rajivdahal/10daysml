{
 "cells": [
  {
   "cell_type": "code",
   "execution_count": 28,
   "id": "perceived-barrier",
   "metadata": {},
   "outputs": [],
   "source": [
    "import pandas as pd\n",
    "from sklearn.preprocessing import StandardScaler\n",
    "import seaborn as sns\n",
    "import numpy as np"
   ]
  },
  {
   "cell_type": "code",
   "execution_count": 29,
   "id": "loving-roommate",
   "metadata": {},
   "outputs": [],
   "source": [
    "df=pd.read_csv(\"data.csv\")"
   ]
  },
  {
   "cell_type": "code",
   "execution_count": 30,
   "id": "liquid-score",
   "metadata": {},
   "outputs": [
    {
     "data": {
      "text/html": [
       "<div>\n",
       "<style scoped>\n",
       "    .dataframe tbody tr th:only-of-type {\n",
       "        vertical-align: middle;\n",
       "    }\n",
       "\n",
       "    .dataframe tbody tr th {\n",
       "        vertical-align: top;\n",
       "    }\n",
       "\n",
       "    .dataframe thead th {\n",
       "        text-align: right;\n",
       "    }\n",
       "</style>\n",
       "<table border=\"1\" class=\"dataframe\">\n",
       "  <thead>\n",
       "    <tr style=\"text-align: right;\">\n",
       "      <th></th>\n",
       "      <th>Unnamed: 0</th>\n",
       "      <th>Brand</th>\n",
       "      <th>Model</th>\n",
       "      <th>Model_year</th>\n",
       "      <th>Transmission</th>\n",
       "      <th>Engine_size(cc)</th>\n",
       "      <th>Drivetrain</th>\n",
       "      <th>Fuel_type</th>\n",
       "      <th>Lot_no</th>\n",
       "      <th>Kilometer</th>\n",
       "      <th>Price</th>\n",
       "    </tr>\n",
       "  </thead>\n",
       "  <tbody>\n",
       "    <tr>\n",
       "      <th>0</th>\n",
       "      <td>0</td>\n",
       "      <td>Chevrolet</td>\n",
       "      <td>aveo</td>\n",
       "      <td>2009</td>\n",
       "      <td>Manual</td>\n",
       "      <td>1150</td>\n",
       "      <td>2</td>\n",
       "      <td>Petrol</td>\n",
       "      <td>6</td>\n",
       "      <td>200</td>\n",
       "      <td>975000</td>\n",
       "    </tr>\n",
       "    <tr>\n",
       "      <th>1</th>\n",
       "      <td>1</td>\n",
       "      <td>Chevrolet</td>\n",
       "      <td>captiva</td>\n",
       "      <td>2015</td>\n",
       "      <td>Automatic</td>\n",
       "      <td>2000</td>\n",
       "      <td>4</td>\n",
       "      <td>Diesel</td>\n",
       "      <td>8</td>\n",
       "      <td>100</td>\n",
       "      <td>3000000</td>\n",
       "    </tr>\n",
       "    <tr>\n",
       "      <th>2</th>\n",
       "      <td>2</td>\n",
       "      <td>Chevrolet</td>\n",
       "      <td>aveo</td>\n",
       "      <td>2009</td>\n",
       "      <td>Manual</td>\n",
       "      <td>1150</td>\n",
       "      <td>2</td>\n",
       "      <td>Petrol</td>\n",
       "      <td>6</td>\n",
       "      <td>42000</td>\n",
       "      <td>975000</td>\n",
       "    </tr>\n",
       "    <tr>\n",
       "      <th>3</th>\n",
       "      <td>3</td>\n",
       "      <td>Chevrolet</td>\n",
       "      <td>captiva</td>\n",
       "      <td>2010</td>\n",
       "      <td>Automatic</td>\n",
       "      <td>2000</td>\n",
       "      <td>4</td>\n",
       "      <td>Diesel</td>\n",
       "      <td>8</td>\n",
       "      <td>51000</td>\n",
       "      <td>3000000</td>\n",
       "    </tr>\n",
       "    <tr>\n",
       "      <th>4</th>\n",
       "      <td>4</td>\n",
       "      <td>Chevrolet</td>\n",
       "      <td>spark</td>\n",
       "      <td>2012</td>\n",
       "      <td>Manual</td>\n",
       "      <td>1000</td>\n",
       "      <td>2</td>\n",
       "      <td>Petrol</td>\n",
       "      <td>9</td>\n",
       "      <td>38000</td>\n",
       "      <td>1000000</td>\n",
       "    </tr>\n",
       "    <tr>\n",
       "      <th>...</th>\n",
       "      <td>...</td>\n",
       "      <td>...</td>\n",
       "      <td>...</td>\n",
       "      <td>...</td>\n",
       "      <td>...</td>\n",
       "      <td>...</td>\n",
       "      <td>...</td>\n",
       "      <td>...</td>\n",
       "      <td>...</td>\n",
       "      <td>...</td>\n",
       "      <td>...</td>\n",
       "    </tr>\n",
       "    <tr>\n",
       "      <th>1894</th>\n",
       "      <td>2209</td>\n",
       "      <td>Volkswagen</td>\n",
       "      <td>polo</td>\n",
       "      <td>2013</td>\n",
       "      <td>Manual</td>\n",
       "      <td>1600</td>\n",
       "      <td>2</td>\n",
       "      <td>Petrol</td>\n",
       "      <td>11</td>\n",
       "      <td>6300</td>\n",
       "      <td>2700000</td>\n",
       "    </tr>\n",
       "    <tr>\n",
       "      <th>1895</th>\n",
       "      <td>2210</td>\n",
       "      <td>Volkswagen</td>\n",
       "      <td>beetle</td>\n",
       "      <td>2010</td>\n",
       "      <td>Manual</td>\n",
       "      <td>1595</td>\n",
       "      <td>2</td>\n",
       "      <td>Petrol</td>\n",
       "      <td>8</td>\n",
       "      <td>19000</td>\n",
       "      <td>3950000</td>\n",
       "    </tr>\n",
       "    <tr>\n",
       "      <th>1896</th>\n",
       "      <td>2211</td>\n",
       "      <td>Volkswagen</td>\n",
       "      <td>passat</td>\n",
       "      <td>2010</td>\n",
       "      <td>Manual</td>\n",
       "      <td>1800</td>\n",
       "      <td>2</td>\n",
       "      <td>Petrol</td>\n",
       "      <td>8</td>\n",
       "      <td>11000</td>\n",
       "      <td>5800000</td>\n",
       "    </tr>\n",
       "    <tr>\n",
       "      <th>1897</th>\n",
       "      <td>2213</td>\n",
       "      <td>Volkswagen</td>\n",
       "      <td>tiguan</td>\n",
       "      <td>2010</td>\n",
       "      <td>Manual</td>\n",
       "      <td>2000</td>\n",
       "      <td>2</td>\n",
       "      <td>Petrol</td>\n",
       "      <td>8</td>\n",
       "      <td>25000</td>\n",
       "      <td>4900000</td>\n",
       "    </tr>\n",
       "    <tr>\n",
       "      <th>1898</th>\n",
       "      <td>2215</td>\n",
       "      <td>Volkswagen</td>\n",
       "      <td>vento</td>\n",
       "      <td>2012</td>\n",
       "      <td>Manual</td>\n",
       "      <td>1600</td>\n",
       "      <td>2</td>\n",
       "      <td>Diesel</td>\n",
       "      <td>11</td>\n",
       "      <td>14000</td>\n",
       "      <td>3555555</td>\n",
       "    </tr>\n",
       "  </tbody>\n",
       "</table>\n",
       "<p>1899 rows × 11 columns</p>\n",
       "</div>"
      ],
      "text/plain": [
       "      Unnamed: 0       Brand    Model  Model_year Transmission  \\\n",
       "0              0   Chevrolet     aveo        2009       Manual   \n",
       "1              1   Chevrolet  captiva        2015    Automatic   \n",
       "2              2   Chevrolet     aveo        2009       Manual   \n",
       "3              3   Chevrolet  captiva        2010    Automatic   \n",
       "4              4   Chevrolet    spark        2012       Manual   \n",
       "...          ...         ...      ...         ...          ...   \n",
       "1894        2209  Volkswagen     polo        2013       Manual   \n",
       "1895        2210  Volkswagen   beetle        2010       Manual   \n",
       "1896        2211  Volkswagen   passat        2010       Manual   \n",
       "1897        2213  Volkswagen   tiguan        2010       Manual   \n",
       "1898        2215  Volkswagen    vento        2012       Manual   \n",
       "\n",
       "      Engine_size(cc)  Drivetrain Fuel_type  Lot_no  Kilometer    Price  \n",
       "0                1150           2    Petrol       6        200   975000  \n",
       "1                2000           4    Diesel       8        100  3000000  \n",
       "2                1150           2    Petrol       6      42000   975000  \n",
       "3                2000           4    Diesel       8      51000  3000000  \n",
       "4                1000           2    Petrol       9      38000  1000000  \n",
       "...               ...         ...       ...     ...        ...      ...  \n",
       "1894             1600           2    Petrol      11       6300  2700000  \n",
       "1895             1595           2    Petrol       8      19000  3950000  \n",
       "1896             1800           2    Petrol       8      11000  5800000  \n",
       "1897             2000           2    Petrol       8      25000  4900000  \n",
       "1898             1600           2    Diesel      11      14000  3555555  \n",
       "\n",
       "[1899 rows x 11 columns]"
      ]
     },
     "execution_count": 30,
     "metadata": {},
     "output_type": "execute_result"
    }
   ],
   "source": [
    "df"
   ]
  },
  {
   "cell_type": "code",
   "execution_count": 31,
   "id": "employed-puppy",
   "metadata": {},
   "outputs": [],
   "source": [
    "df.loc[2,\"Brand\"]=\"rajiv\""
   ]
  },
  {
   "cell_type": "code",
   "execution_count": 32,
   "id": "hispanic-input",
   "metadata": {
    "scrolled": true
   },
   "outputs": [
    {
     "data": {
      "text/html": [
       "<div>\n",
       "<style scoped>\n",
       "    .dataframe tbody tr th:only-of-type {\n",
       "        vertical-align: middle;\n",
       "    }\n",
       "\n",
       "    .dataframe tbody tr th {\n",
       "        vertical-align: top;\n",
       "    }\n",
       "\n",
       "    .dataframe thead th {\n",
       "        text-align: right;\n",
       "    }\n",
       "</style>\n",
       "<table border=\"1\" class=\"dataframe\">\n",
       "  <thead>\n",
       "    <tr style=\"text-align: right;\">\n",
       "      <th></th>\n",
       "      <th>Unnamed: 0</th>\n",
       "      <th>Brand</th>\n",
       "      <th>Model</th>\n",
       "      <th>Model_year</th>\n",
       "      <th>Transmission</th>\n",
       "      <th>Engine_size(cc)</th>\n",
       "      <th>Drivetrain</th>\n",
       "      <th>Fuel_type</th>\n",
       "      <th>Lot_no</th>\n",
       "      <th>Kilometer</th>\n",
       "      <th>Price</th>\n",
       "    </tr>\n",
       "  </thead>\n",
       "  <tbody>\n",
       "    <tr>\n",
       "      <th>0</th>\n",
       "      <td>0</td>\n",
       "      <td>Chevrolet</td>\n",
       "      <td>aveo</td>\n",
       "      <td>2009</td>\n",
       "      <td>Manual</td>\n",
       "      <td>1150</td>\n",
       "      <td>2</td>\n",
       "      <td>Petrol</td>\n",
       "      <td>6</td>\n",
       "      <td>200</td>\n",
       "      <td>975000</td>\n",
       "    </tr>\n",
       "    <tr>\n",
       "      <th>1</th>\n",
       "      <td>1</td>\n",
       "      <td>Chevrolet</td>\n",
       "      <td>captiva</td>\n",
       "      <td>2015</td>\n",
       "      <td>Automatic</td>\n",
       "      <td>2000</td>\n",
       "      <td>4</td>\n",
       "      <td>Diesel</td>\n",
       "      <td>8</td>\n",
       "      <td>100</td>\n",
       "      <td>3000000</td>\n",
       "    </tr>\n",
       "    <tr>\n",
       "      <th>2</th>\n",
       "      <td>2</td>\n",
       "      <td>rajiv</td>\n",
       "      <td>aveo</td>\n",
       "      <td>2009</td>\n",
       "      <td>Manual</td>\n",
       "      <td>1150</td>\n",
       "      <td>2</td>\n",
       "      <td>Petrol</td>\n",
       "      <td>6</td>\n",
       "      <td>42000</td>\n",
       "      <td>975000</td>\n",
       "    </tr>\n",
       "    <tr>\n",
       "      <th>3</th>\n",
       "      <td>3</td>\n",
       "      <td>Chevrolet</td>\n",
       "      <td>captiva</td>\n",
       "      <td>2010</td>\n",
       "      <td>Automatic</td>\n",
       "      <td>2000</td>\n",
       "      <td>4</td>\n",
       "      <td>Diesel</td>\n",
       "      <td>8</td>\n",
       "      <td>51000</td>\n",
       "      <td>3000000</td>\n",
       "    </tr>\n",
       "    <tr>\n",
       "      <th>4</th>\n",
       "      <td>4</td>\n",
       "      <td>Chevrolet</td>\n",
       "      <td>spark</td>\n",
       "      <td>2012</td>\n",
       "      <td>Manual</td>\n",
       "      <td>1000</td>\n",
       "      <td>2</td>\n",
       "      <td>Petrol</td>\n",
       "      <td>9</td>\n",
       "      <td>38000</td>\n",
       "      <td>1000000</td>\n",
       "    </tr>\n",
       "    <tr>\n",
       "      <th>...</th>\n",
       "      <td>...</td>\n",
       "      <td>...</td>\n",
       "      <td>...</td>\n",
       "      <td>...</td>\n",
       "      <td>...</td>\n",
       "      <td>...</td>\n",
       "      <td>...</td>\n",
       "      <td>...</td>\n",
       "      <td>...</td>\n",
       "      <td>...</td>\n",
       "      <td>...</td>\n",
       "    </tr>\n",
       "    <tr>\n",
       "      <th>1894</th>\n",
       "      <td>2209</td>\n",
       "      <td>Volkswagen</td>\n",
       "      <td>polo</td>\n",
       "      <td>2013</td>\n",
       "      <td>Manual</td>\n",
       "      <td>1600</td>\n",
       "      <td>2</td>\n",
       "      <td>Petrol</td>\n",
       "      <td>11</td>\n",
       "      <td>6300</td>\n",
       "      <td>2700000</td>\n",
       "    </tr>\n",
       "    <tr>\n",
       "      <th>1895</th>\n",
       "      <td>2210</td>\n",
       "      <td>Volkswagen</td>\n",
       "      <td>beetle</td>\n",
       "      <td>2010</td>\n",
       "      <td>Manual</td>\n",
       "      <td>1595</td>\n",
       "      <td>2</td>\n",
       "      <td>Petrol</td>\n",
       "      <td>8</td>\n",
       "      <td>19000</td>\n",
       "      <td>3950000</td>\n",
       "    </tr>\n",
       "    <tr>\n",
       "      <th>1896</th>\n",
       "      <td>2211</td>\n",
       "      <td>Volkswagen</td>\n",
       "      <td>passat</td>\n",
       "      <td>2010</td>\n",
       "      <td>Manual</td>\n",
       "      <td>1800</td>\n",
       "      <td>2</td>\n",
       "      <td>Petrol</td>\n",
       "      <td>8</td>\n",
       "      <td>11000</td>\n",
       "      <td>5800000</td>\n",
       "    </tr>\n",
       "    <tr>\n",
       "      <th>1897</th>\n",
       "      <td>2213</td>\n",
       "      <td>Volkswagen</td>\n",
       "      <td>tiguan</td>\n",
       "      <td>2010</td>\n",
       "      <td>Manual</td>\n",
       "      <td>2000</td>\n",
       "      <td>2</td>\n",
       "      <td>Petrol</td>\n",
       "      <td>8</td>\n",
       "      <td>25000</td>\n",
       "      <td>4900000</td>\n",
       "    </tr>\n",
       "    <tr>\n",
       "      <th>1898</th>\n",
       "      <td>2215</td>\n",
       "      <td>Volkswagen</td>\n",
       "      <td>vento</td>\n",
       "      <td>2012</td>\n",
       "      <td>Manual</td>\n",
       "      <td>1600</td>\n",
       "      <td>2</td>\n",
       "      <td>Diesel</td>\n",
       "      <td>11</td>\n",
       "      <td>14000</td>\n",
       "      <td>3555555</td>\n",
       "    </tr>\n",
       "  </tbody>\n",
       "</table>\n",
       "<p>1899 rows × 11 columns</p>\n",
       "</div>"
      ],
      "text/plain": [
       "      Unnamed: 0       Brand    Model  Model_year Transmission  \\\n",
       "0              0   Chevrolet     aveo        2009       Manual   \n",
       "1              1   Chevrolet  captiva        2015    Automatic   \n",
       "2              2       rajiv     aveo        2009       Manual   \n",
       "3              3   Chevrolet  captiva        2010    Automatic   \n",
       "4              4   Chevrolet    spark        2012       Manual   \n",
       "...          ...         ...      ...         ...          ...   \n",
       "1894        2209  Volkswagen     polo        2013       Manual   \n",
       "1895        2210  Volkswagen   beetle        2010       Manual   \n",
       "1896        2211  Volkswagen   passat        2010       Manual   \n",
       "1897        2213  Volkswagen   tiguan        2010       Manual   \n",
       "1898        2215  Volkswagen    vento        2012       Manual   \n",
       "\n",
       "      Engine_size(cc)  Drivetrain Fuel_type  Lot_no  Kilometer    Price  \n",
       "0                1150           2    Petrol       6        200   975000  \n",
       "1                2000           4    Diesel       8        100  3000000  \n",
       "2                1150           2    Petrol       6      42000   975000  \n",
       "3                2000           4    Diesel       8      51000  3000000  \n",
       "4                1000           2    Petrol       9      38000  1000000  \n",
       "...               ...         ...       ...     ...        ...      ...  \n",
       "1894             1600           2    Petrol      11       6300  2700000  \n",
       "1895             1595           2    Petrol       8      19000  3950000  \n",
       "1896             1800           2    Petrol       8      11000  5800000  \n",
       "1897             2000           2    Petrol       8      25000  4900000  \n",
       "1898             1600           2    Diesel      11      14000  3555555  \n",
       "\n",
       "[1899 rows x 11 columns]"
      ]
     },
     "execution_count": 32,
     "metadata": {},
     "output_type": "execute_result"
    }
   ],
   "source": [
    "\n",
    "df"
   ]
  },
  {
   "cell_type": "code",
   "execution_count": 33,
   "id": "cosmetic-premises",
   "metadata": {},
   "outputs": [],
   "source": [
    "newdf=df.drop(df.iloc[:,0:8],axis=1)"
   ]
  },
  {
   "cell_type": "code",
   "execution_count": null,
   "id": "approximate-associate",
   "metadata": {},
   "outputs": [],
   "source": []
  },
  {
   "cell_type": "code",
   "execution_count": 34,
   "id": "numeric-negative",
   "metadata": {},
   "outputs": [
    {
     "data": {
      "text/html": [
       "<div>\n",
       "<style scoped>\n",
       "    .dataframe tbody tr th:only-of-type {\n",
       "        vertical-align: middle;\n",
       "    }\n",
       "\n",
       "    .dataframe tbody tr th {\n",
       "        vertical-align: top;\n",
       "    }\n",
       "\n",
       "    .dataframe thead th {\n",
       "        text-align: right;\n",
       "    }\n",
       "</style>\n",
       "<table border=\"1\" class=\"dataframe\">\n",
       "  <thead>\n",
       "    <tr style=\"text-align: right;\">\n",
       "      <th></th>\n",
       "      <th>Lot_no</th>\n",
       "      <th>Kilometer</th>\n",
       "      <th>Price</th>\n",
       "    </tr>\n",
       "  </thead>\n",
       "  <tbody>\n",
       "    <tr>\n",
       "      <th>0</th>\n",
       "      <td>6</td>\n",
       "      <td>200</td>\n",
       "      <td>975000</td>\n",
       "    </tr>\n",
       "    <tr>\n",
       "      <th>1</th>\n",
       "      <td>8</td>\n",
       "      <td>100</td>\n",
       "      <td>3000000</td>\n",
       "    </tr>\n",
       "    <tr>\n",
       "      <th>2</th>\n",
       "      <td>6</td>\n",
       "      <td>42000</td>\n",
       "      <td>975000</td>\n",
       "    </tr>\n",
       "    <tr>\n",
       "      <th>3</th>\n",
       "      <td>8</td>\n",
       "      <td>51000</td>\n",
       "      <td>3000000</td>\n",
       "    </tr>\n",
       "    <tr>\n",
       "      <th>4</th>\n",
       "      <td>9</td>\n",
       "      <td>38000</td>\n",
       "      <td>1000000</td>\n",
       "    </tr>\n",
       "    <tr>\n",
       "      <th>...</th>\n",
       "      <td>...</td>\n",
       "      <td>...</td>\n",
       "      <td>...</td>\n",
       "    </tr>\n",
       "    <tr>\n",
       "      <th>1894</th>\n",
       "      <td>11</td>\n",
       "      <td>6300</td>\n",
       "      <td>2700000</td>\n",
       "    </tr>\n",
       "    <tr>\n",
       "      <th>1895</th>\n",
       "      <td>8</td>\n",
       "      <td>19000</td>\n",
       "      <td>3950000</td>\n",
       "    </tr>\n",
       "    <tr>\n",
       "      <th>1896</th>\n",
       "      <td>8</td>\n",
       "      <td>11000</td>\n",
       "      <td>5800000</td>\n",
       "    </tr>\n",
       "    <tr>\n",
       "      <th>1897</th>\n",
       "      <td>8</td>\n",
       "      <td>25000</td>\n",
       "      <td>4900000</td>\n",
       "    </tr>\n",
       "    <tr>\n",
       "      <th>1898</th>\n",
       "      <td>11</td>\n",
       "      <td>14000</td>\n",
       "      <td>3555555</td>\n",
       "    </tr>\n",
       "  </tbody>\n",
       "</table>\n",
       "<p>1899 rows × 3 columns</p>\n",
       "</div>"
      ],
      "text/plain": [
       "      Lot_no  Kilometer    Price\n",
       "0          6        200   975000\n",
       "1          8        100  3000000\n",
       "2          6      42000   975000\n",
       "3          8      51000  3000000\n",
       "4          9      38000  1000000\n",
       "...      ...        ...      ...\n",
       "1894      11       6300  2700000\n",
       "1895       8      19000  3950000\n",
       "1896       8      11000  5800000\n",
       "1897       8      25000  4900000\n",
       "1898      11      14000  3555555\n",
       "\n",
       "[1899 rows x 3 columns]"
      ]
     },
     "execution_count": 34,
     "metadata": {},
     "output_type": "execute_result"
    }
   ],
   "source": [
    "newdf"
   ]
  },
  {
   "cell_type": "code",
   "execution_count": 14,
   "id": "canadian-character",
   "metadata": {},
   "outputs": [
    {
     "name": "stderr",
     "output_type": "stream",
     "text": [
      "C:\\Users\\MR.D\\anaconda3\\envs\\10daysml\\lib\\site-packages\\seaborn\\_decorators.py:36: FutureWarning: Pass the following variables as keyword args: x, y. From version 0.12, the only valid positional argument will be `data`, and passing other arguments without an explicit keyword will result in an error or misinterpretation.\n",
      "  warnings.warn(\n"
     ]
    },
    {
     "data": {
      "text/plain": [
       "<AxesSubplot:xlabel='Lot_no', ylabel='Price'>"
      ]
     },
     "execution_count": 14,
     "metadata": {},
     "output_type": "execute_result"
    },
    {
     "data": {
      "image/png": "[encoded data removed]",
      "text/plain": [
       "<Figure size 432x288 with 1 Axes>"
      ]
     },
     "metadata": {
      "needs_background": "light"
     },
     "output_type": "display_data"
    }
   ],
   "source": [
    "sns.scatterplot(newdf['Lot_no'],newdf['Price'])"
   ]
  },
  {
   "cell_type": "code",
   "execution_count": 35,
   "id": "timely-supplement",
   "metadata": {},
   "outputs": [],
   "source": [
    "scaler = StandardScaler()"
   ]
  },
  {
   "cell_type": "code",
   "execution_count": 8,
   "id": "common-editing",
   "metadata": {},
   "outputs": [
    {
     "data": {
      "text/plain": [
       "((1329, 2), (570, 2))"
      ]
     },
     "execution_count": 8,
     "metadata": {},
     "output_type": "execute_result"
    }
   ],
   "source": [
    "from sklearn.model_selection import train_test_split\n",
    "X_train, X_test, y_train, y_test = train_test_split(newdf.drop('Price', axis=1),\n",
    "                                                    newdf['Price'],\n",
    "                             \n",
    "                                                    test_size=0.3,\n",
    "                                                    random_state=0)\n",
    "\n",
    "X_train.shape,X_test.shape"
   ]
  },
  {
   "cell_type": "code",
   "execution_count": 37,
   "id": "composite-polish",
   "metadata": {},
   "outputs": [
    {
     "data": {
      "text/plain": [
       "StandardScaler()"
      ]
     },
     "execution_count": 37,
     "metadata": {},
     "output_type": "execute_result"
    }
   ],
   "source": [
    "scaler.fit(X_train)"
   ]
  },
  {
   "cell_type": "markdown",
   "id": "toxic-writing",
   "metadata": {},
   "source": [
    "#generally fit means learning : in this case learning is calculating mean and standard deviation "
   ]
  },
  {
   "cell_type": "code",
   "execution_count": 38,
   "id": "little-chancellor",
   "metadata": {},
   "outputs": [
    {
     "data": {
      "text/plain": [
       "array([8.33408578e+00, 4.11489631e+04])"
      ]
     },
     "execution_count": 38,
     "metadata": {},
     "output_type": "execute_result"
    }
   ],
   "source": [
    "scaler.mean_"
   ]
  },
  {
   "cell_type": "markdown",
   "id": "strong-application",
   "metadata": {},
   "source": [
    "# transforming to origin (all the points)"
   ]
  },
  {
   "cell_type": "code",
   "execution_count": 39,
   "id": "freelance-express",
   "metadata": {},
   "outputs": [],
   "source": [
    "X_train_scaled = scaler.transform(X_train)\n",
    "X_test_scaled = scaler.transform(X_test)"
   ]
  },
  {
   "cell_type": "code",
   "execution_count": 19,
   "id": "southern-formula",
   "metadata": {},
   "outputs": [
    {
     "data": {
      "text/plain": [
       "((1329, 2), (570, 2))"
      ]
     },
     "execution_count": 19,
     "metadata": {},
     "output_type": "execute_result"
    }
   ],
   "source": [
    "X_train_scaled.shape,X_test_scaled.shape\n"
   ]
  },
  {
   "cell_type": "markdown",
   "id": "certified-bikini",
   "metadata": {},
   "source": [
    "# generally transform gives you numpy array so change it to df"
   ]
  },
  {
   "cell_type": "code",
   "execution_count": 40,
   "id": "rough-paintball",
   "metadata": {},
   "outputs": [],
   "source": [
    "X_train_scaled = pd.DataFrame(X_train_scaled,columns=X_train.columns)\n",
    "X_test_scaled = pd.DataFrame(X_test_scaled,columns=X_test.columns)\n"
   ]
  },
  {
   "cell_type": "code",
   "execution_count": 41,
   "id": "vertical-establishment",
   "metadata": {},
   "outputs": [
    {
     "data": {
      "text/html": [
       "<div>\n",
       "<style scoped>\n",
       "    .dataframe tbody tr th:only-of-type {\n",
       "        vertical-align: middle;\n",
       "    }\n",
       "\n",
       "    .dataframe tbody tr th {\n",
       "        vertical-align: top;\n",
       "    }\n",
       "\n",
       "    .dataframe thead th {\n",
       "        text-align: right;\n",
       "    }\n",
       "</style>\n",
       "<table border=\"1\" class=\"dataframe\">\n",
       "  <thead>\n",
       "    <tr style=\"text-align: right;\">\n",
       "      <th></th>\n",
       "      <th>Lot_no</th>\n",
       "      <th>Kilometer</th>\n",
       "    </tr>\n",
       "  </thead>\n",
       "  <tbody>\n",
       "    <tr>\n",
       "      <th>count</th>\n",
       "      <td>1329.0</td>\n",
       "      <td>1329.0</td>\n",
       "    </tr>\n",
       "    <tr>\n",
       "      <th>mean</th>\n",
       "      <td>8.0</td>\n",
       "      <td>41149.0</td>\n",
       "    </tr>\n",
       "    <tr>\n",
       "      <th>std</th>\n",
       "      <td>3.0</td>\n",
       "      <td>41016.0</td>\n",
       "    </tr>\n",
       "    <tr>\n",
       "      <th>min</th>\n",
       "      <td>1.0</td>\n",
       "      <td>150.0</td>\n",
       "    </tr>\n",
       "    <tr>\n",
       "      <th>25%</th>\n",
       "      <td>6.0</td>\n",
       "      <td>25000.0</td>\n",
       "    </tr>\n",
       "    <tr>\n",
       "      <th>50%</th>\n",
       "      <td>8.0</td>\n",
       "      <td>36000.0</td>\n",
       "    </tr>\n",
       "    <tr>\n",
       "      <th>75%</th>\n",
       "      <td>10.0</td>\n",
       "      <td>50000.0</td>\n",
       "    </tr>\n",
       "    <tr>\n",
       "      <th>max</th>\n",
       "      <td>22.0</td>\n",
       "      <td>800000.0</td>\n",
       "    </tr>\n",
       "  </tbody>\n",
       "</table>\n",
       "</div>"
      ],
      "text/plain": [
       "       Lot_no  Kilometer\n",
       "count  1329.0     1329.0\n",
       "mean      8.0    41149.0\n",
       "std       3.0    41016.0\n",
       "min       1.0      150.0\n",
       "25%       6.0    25000.0\n",
       "50%       8.0    36000.0\n",
       "75%      10.0    50000.0\n",
       "max      22.0   800000.0"
      ]
     },
     "execution_count": 41,
     "metadata": {},
     "output_type": "execute_result"
    }
   ],
   "source": [
    "np.round(X_train.describe())"
   ]
  },
  {
   "cell_type": "code",
   "execution_count": 42,
   "id": "announced-metropolitan",
   "metadata": {},
   "outputs": [
    {
     "data": {
      "text/html": [
       "<div>\n",
       "<style scoped>\n",
       "    .dataframe tbody tr th:only-of-type {\n",
       "        vertical-align: middle;\n",
       "    }\n",
       "\n",
       "    .dataframe tbody tr th {\n",
       "        vertical-align: top;\n",
       "    }\n",
       "\n",
       "    .dataframe thead th {\n",
       "        text-align: right;\n",
       "    }\n",
       "</style>\n",
       "<table border=\"1\" class=\"dataframe\">\n",
       "  <thead>\n",
       "    <tr style=\"text-align: right;\">\n",
       "      <th></th>\n",
       "      <th>Lot_no</th>\n",
       "      <th>Kilometer</th>\n",
       "    </tr>\n",
       "  </thead>\n",
       "  <tbody>\n",
       "    <tr>\n",
       "      <th>count</th>\n",
       "      <td>1329.0</td>\n",
       "      <td>1329.0</td>\n",
       "    </tr>\n",
       "    <tr>\n",
       "      <th>mean</th>\n",
       "      <td>0.0</td>\n",
       "      <td>0.0</td>\n",
       "    </tr>\n",
       "    <tr>\n",
       "      <th>std</th>\n",
       "      <td>1.0</td>\n",
       "      <td>1.0</td>\n",
       "    </tr>\n",
       "    <tr>\n",
       "      <th>min</th>\n",
       "      <td>-2.0</td>\n",
       "      <td>-1.0</td>\n",
       "    </tr>\n",
       "    <tr>\n",
       "      <th>25%</th>\n",
       "      <td>-1.0</td>\n",
       "      <td>-0.0</td>\n",
       "    </tr>\n",
       "    <tr>\n",
       "      <th>50%</th>\n",
       "      <td>-0.0</td>\n",
       "      <td>-0.0</td>\n",
       "    </tr>\n",
       "    <tr>\n",
       "      <th>75%</th>\n",
       "      <td>1.0</td>\n",
       "      <td>0.0</td>\n",
       "    </tr>\n",
       "    <tr>\n",
       "      <th>max</th>\n",
       "      <td>4.0</td>\n",
       "      <td>19.0</td>\n",
       "    </tr>\n",
       "  </tbody>\n",
       "</table>\n",
       "</div>"
      ],
      "text/plain": [
       "       Lot_no  Kilometer\n",
       "count  1329.0     1329.0\n",
       "mean      0.0        0.0\n",
       "std       1.0        1.0\n",
       "min      -2.0       -1.0\n",
       "25%      -1.0       -0.0\n",
       "50%      -0.0       -0.0\n",
       "75%       1.0        0.0\n",
       "max       4.0       19.0"
      ]
     },
     "execution_count": 42,
     "metadata": {},
     "output_type": "execute_result"
    }
   ],
   "source": [
    "np.round(X_train_scaled.describe())"
   ]
  },
  {
   "cell_type": "code",
   "execution_count": 97,
   "id": "antique-wallace",
   "metadata": {},
   "outputs": [
    {
     "name": "stderr",
     "output_type": "stream",
     "text": [
      "C:\\Users\\MR.D\\anaconda3\\envs\\10daysml\\lib\\site-packages\\seaborn\\_decorators.py:36: FutureWarning: Pass the following variables as keyword args: x, y. From version 0.12, the only valid positional argument will be `data`, and passing other arguments without an explicit keyword will result in an error or misinterpretation.\n",
      "  warnings.warn(\n"
     ]
    },
    {
     "data": {
      "text/plain": [
       "<AxesSubplot:xlabel='Lot_no', ylabel='Kilometer'>"
      ]
     },
     "execution_count": 97,
     "metadata": {},
     "output_type": "execute_result"
    },
    {
     "data": {
      "image/png": "[encoded data removed]",
      "text/plain": [
       "<Figure size 432x288 with 1 Axes>"
      ]
     },
     "metadata": {
      "needs_background": "light"
     },
     "output_type": "display_data"
    }
   ],
   "source": [
    "sns.scatterplot(newdf['Lot_no'],newdf['Kilometer'])"
   ]
  },
  {
   "cell_type": "code",
   "execution_count": 99,
   "id": "alert-postage",
   "metadata": {},
   "outputs": [
    {
     "name": "stderr",
     "output_type": "stream",
     "text": [
      "C:\\Users\\MR.D\\anaconda3\\envs\\10daysml\\lib\\site-packages\\seaborn\\_decorators.py:36: FutureWarning: Pass the following variables as keyword args: x, y. From version 0.12, the only valid positional argument will be `data`, and passing other arguments without an explicit keyword will result in an error or misinterpretation.\n",
      "  warnings.warn(\n"
     ]
    },
    {
     "data": {
      "text/plain": [
       "<AxesSubplot:xlabel='Lot_no', ylabel='Kilometer'>"
      ]
     },
     "execution_count": 99,
     "metadata": {},
     "output_type": "execute_result"
    },
    {
     "data": {
      "image/png": "[encoded data removed]",
      "text/plain": [
       "<Figure size 432x288 with 1 Axes>"
      ]
     },
     "metadata": {
      "needs_background": "light"
     },
     "output_type": "display_data"
    }
   ],
   "source": [
    "sns.scatterplot(X_train_scaled['Lot_no'],X_train_scaled['Kilometer'])"
   ]
  },
  {
   "cell_type": "code",
   "execution_count": null,
   "id": "loved-milton",
   "metadata": {},
   "outputs": [],
   "source": []
  }
 ],
 "metadata": {
  "kernelspec": {
   "display_name": "Python 3",
   "language": "python",
   "name": "python3"
  },
  "language_info": {
   "codemirror_mode": {
    "name": "ipython",
    "version": 3
   },
   "file_extension": ".py",
   "mimetype": "text/x-python",
   "name": "python",
   "nbconvert_exporter": "python",
   "pygments_lexer": "ipython3",
   "version": "3.9.2"
  }
 },
 "nbformat": 4,
 "nbformat_minor": 5
}
