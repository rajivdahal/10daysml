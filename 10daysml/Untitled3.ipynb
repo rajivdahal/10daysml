{
 "cells": [
  {
   "cell_type": "code",
   "execution_count": 5,
   "id": "antique-weekly",
   "metadata": {},
   "outputs": [],
   "source": [
    "import pandas as pd\n",
    "import requests\n",
    "from bs4 import BeautifulSoup\n"
   ]
  },
  {
   "cell_type": "code",
   "execution_count": 74,
   "id": "ordered-patrol",
   "metadata": {},
   "outputs": [
    {
     "data": {
      "text/plain": [
       "[<td bgcolor=\"#ECF0F6\" height=\"125\" style=\"line:height:130%;\"><a href=\"i2492940-honda-aviator-white.html\" target=\"_blank\"><font style=\"font-size:13px;\"><b><b>Honda Aviator White</b></b></font></a> <font color=\"#565d60\" size=\"1\"><b><i><br/>Anchal: Bagmati (below Ba.99.pa)  |  Lot No: 60  |  Make Year: 2014</i></b></font> <br/>Time To Time Servicing. Tax All Clear Up To Date...<br/><b>Seller:</b> <a href=\"useritems.php?user_siteid=2492940\">raken shrestha</a> <img align=\"absmiddle\" height=\"12\" src=\"layout_images/ver_phone.gif\" title=\"Verified Phone\" width=\"12\"/> <font color=\"grey\" size=\"1\"> (2 ad) - Thankot, Kathmandu</font></td>,\n",
       " <td bgcolor=\"#ECF0F6\" height=\"125\" style=\"line:height:130%;\"><a href=\"i2543614-suzuki-gsr-600-for-sale.html\" target=\"_blank\"><font style=\"font-size:13px;\"><b><b>Suzuki Gsr 600 For Sale</b></b></font></a> <font color=\"#565d60\" size=\"1\"><b><i><br/>Anchal: Bagmati (below Ba.99.pa)  |  Lot No: 55  |  Make Year: 2008  |  Kilometers: 25000</i></b></font> <br/>2008 Suzuki Gsr 600 Kilometers Done - 25k Plus Slip On Arrow Exhaust Installed. (2pcs) Fresh Condition New Sets Of Tyres...<br/><b>Seller:</b> <a href=\"useritems.php?user_siteid=2543614\">ABSA MERCHANDISE</a> <img align=\"absmiddle\" height=\"12\" src=\"layout_images/ver_phone.gif\" title=\"Verified Phone\" width=\"12\"/> <font color=\"grey\" size=\"1\"> (1 ad) - Kapan, Kathmandu</font></td>,\n",
       " <td bgcolor=\"#ECF0F6\" height=\"125\" style=\"line:height:130%;\"><a href=\"i2604249-kawasaki-ninja-250.html\" target=\"_blank\"><font style=\"font-size:13px;\"><b><b>Kawasaki Ninja 250</b></b></font></a> <font color=\"#565d60\" size=\"1\"><b><i><br/>Anchal: Bagmati (below Ba.99.pa)  |  Lot No: 41  |  Make Year: 2013  |  Kilometers: 31000</i></b></font> <br/>Smooth Engine Sound Parellel Twin Cylinder Comes With Modified Exhaust And New Rear Tyre ...<br/><b>Seller:</b> <a href=\"useritems.php?user_siteid=2604249\">Bikash</a> <img align=\"absmiddle\" height=\"12\" src=\"layout_images/ver_phone.gif\" title=\"Verified Phone\" width=\"12\"/> <font color=\"grey\" size=\"1\"> (2 ad) - Gangabu, Kathmandu</font></td>,\n",
       " <td bgcolor=\"#ECF0F6\" height=\"125\" style=\"line:height:130%;\"><a href=\"i2610903-duke250-2018.html\" target=\"_blank\"><font style=\"font-size:13px;\"><b><b>Duke250 2018</b></b></font></a> <font color=\"#565d60\" size=\"1\"><b><i><br/>Anchal: Pradesh 3  |  Lot No: 03  |  Make Year: 2019  |  Kilometers: 6000</i></b></font> <br/>Just 6000km Done ! 2018 Non Abs Model ! Tax All Cleared . Fully Fresh Just 6k Running Ho! No Accidents Record Come And C...<br/><b>Seller:</b> <a href=\"useritems.php?user_siteid=2610903\">RojanKhadka</a> <img align=\"absmiddle\" height=\"12\" src=\"layout_images/ver_phone.gif\" title=\"Verified Phone\" width=\"12\"/> <font color=\"grey\" size=\"1\"> (2 ad) - Pepsicola, Kathmandu</font></td>,\n",
       " <td bgcolor=\"#ECF0F6\" height=\"125\" style=\"line:height:130%;\"><a href=\"i2611269-crossfire-rm250.html\" target=\"_blank\"><font style=\"font-size:13px;\"><b><b>Crossfire Rm250</b></b></font></a> <font color=\"#565d60\" size=\"1\"><b><i><br/>Anchal: Pradesh 3  |  Lot No: O9  |  Make Year: 2019  |  Kilometers: 10k</i></b></font> <br/>Crossfire Rm 250.. No Exchange......<br/><b>Seller:</b> <a href=\"useritems.php?user_siteid=2611269\">parbat limbu</a> <img align=\"absmiddle\" height=\"12\" src=\"layout_images/ver_phone.gif\" title=\"Verified Phone\" width=\"12\"/> <font color=\"grey\" size=\"1\"> (1 ad) - Kalopul, Kathmandu</font></td>,\n",
       " <td bgcolor=\"#ECF0F6\" height=\"125\" style=\"line:height:130%;\"><a href=\"i2436507-royal-bullet-classic-green.html\" target=\"_blank\"><font style=\"font-size:13px;\"><b><b>Royal Bullet Classic Green</b></b></font></a> <font color=\"#565d60\" size=\"1\"><b><i><br/>Anchal: Bagmati (below Ba.99.pa)  |  Lot No: 58  |  Make Year: 2015  |  Kilometers: 25000</i></b></font> <br/>Royal Bullet Classic Battel Green 500...<br/><b>Seller:</b> <a href=\"useritems.php?user_siteid=2436507\">Ashesh Tandukar</a> <img align=\"absmiddle\" height=\"12\" src=\"layout_images/ver_phone.gif\" title=\"Verified Phone\" width=\"12\"/> <font color=\"grey\" size=\"1\"> (1 ad) - Pako, Kathmandu</font></td>,\n",
       " <td bgcolor=\"#ECF0F6\" height=\"125\" style=\"line:height:130%;\"><a href=\"i2594270-dio-scooty.html\" target=\"_blank\"><font style=\"font-size:13px;\"><b><b>Dio Scooty</b></b></font></a> <font color=\"#565d60\" size=\"1\"><b><i><br/>Anchal: Bagmati (below Ba.99.pa)  |  Lot No: 89  |  Make Year: 2018  |  Kilometers: 15000</i></b></font> <br/>Like New ...<br/><b>Seller:</b> <a href=\"useritems.php?user_siteid=2594270\">Ashish</a> <img align=\"absmiddle\" height=\"12\" src=\"layout_images/ver_phone.gif\" title=\"Verified Phone\" width=\"12\"/> <font color=\"grey\" size=\"1\"> (1 ad) - Balaju, Kathmandu</font></td>,\n",
       " <td bgcolor=\"#ECF0F6\" height=\"125\" style=\"line:height:130%;\"><a href=\"i2572544-lemoto-250-fresh-condition.html\" target=\"_blank\"><font style=\"font-size:13px;\"><b><b>Lemoto 250(fresh Condition)</b></b></font></a> <font color=\"#565d60\" size=\"1\"><b><i><br/>Anchal: Bagmati (below Ba.99.pa)  |  Lot No: 94  |  Make Year: 2018</i></b></font> <br/>Bike Fresh Xa Almost. 9 Hajar Run Vako Xa .new Tire Front And Rear Testo Rouge La Chalako Xaina Baira Jana Lagako Ho Tai...<br/><b>Seller:</b> <a href=\"useritems.php?user_siteid=2572544\">Bishal Gurung</a> <img align=\"absmiddle\" height=\"12\" src=\"layout_images/ver_phone.gif\" title=\"Verified Phone\" width=\"12\"/> <font color=\"grey\" size=\"1\"> (2 ad) - Kapan, Kathmandu</font></td>,\n",
       " <td bgcolor=\"#ECF0F6\" height=\"125\" style=\"line:height:130%;\"><a href=\"i2615070-royal-enfield-classic-350.html\" target=\"_blank\"><font style=\"font-size:13px;\"><b><b>Royal Enfield Classic 350</b></b></font></a> <font color=\"#565d60\" size=\"1\"><b><i><br/>Anchal: Pradesh 3  |  Lot No: 23  |  Make Year: 2021  |  Kilometers: 1800</i></b></font> <br/>Fully Fresh Like New Royal Enfield On Sale For Genuine Buyer...<br/><b>Seller:</b> <a href=\"useritems.php?user_siteid=2615070\">Dipendra</a> <img align=\"absmiddle\" height=\"12\" src=\"layout_images/ver_phone.gif\" title=\"Verified Phone\" width=\"12\"/> <font color=\"grey\" size=\"1\"> (1 ad) - Balaju, Kathmandu</font></td>,\n",
       " <td bgcolor=\"#ECF0F6\" height=\"125\" style=\"line:height:130%;\"><a href=\"i2554718-fz-v2-73-lot.html\" target=\"_blank\"><font style=\"font-size:13px;\"><b><b>Fz V2 73 Lot</b></b></font></a> <font color=\"#565d60\" size=\"1\"><b><i><br/>Anchal: Bagmati (below Ba.99.pa)  |  Lot No: 73</i></b></font> <br/>Serviced At Every 1500km With Mobil Change Single Handed Want To Upgrade Exchange With Xpulse And Bullet On Further Cash...<br/><b>Seller:</b> <a href=\"useritems.php?user_siteid=2554718\">sahil dahal</a> <img align=\"absmiddle\" height=\"12\" src=\"layout_images/ver_phone.gif\" title=\"Verified Phone\" width=\"12\"/> <font color=\"grey\" size=\"1\"> (1 ad) - Sinamangal, Kathmandu</font></td>]"
      ]
     },
     "execution_count": 74,
     "metadata": {},
     "output_type": "execute_result"
    }
   ],
   "source": [
    "\n",
    "headers={'User-Agent':'Mozilla/5.0 (Windows NT 6.3; Win 64 ; x64) Apple WeKit /537.36(KHTML , like Gecko) Chrome/80.0.3987.162 Safari/537.36'} \n",
    "webpage=requests.get('https://hamrobazaar.com/c62-automobiles-motorcycle',headers=headers).text\n",
    "\n",
    "soup=BeautifulSoup(webpage,'html.parser')\n",
    "#print(soup.prettify())\n",
    "len(soup.find_all('td',height=\"125\",bgcolor=\"#ECF0F6\",style=\"line:height:130%;\"))\n",
    "soup.find_all('td',height=\"125\",bgcolor=\"#ECF0F6\",style=\"line:height:130%;\")\n",
    "\n",
    "\n"
   ]
  },
  {
   "cell_type": "code",
   "execution_count": 75,
   "id": "altered-venue",
   "metadata": {},
   "outputs": [
    {
     "data": {
      "text/plain": [
       "[<td bgcolor=\"#F2F4F9\" height=\"125\" style=\"line:height:130%;\"><a href=\"i2558243-urgent-sale.html\" target=\"_blank\"><font style=\"font-size:13px;\"><b><b>Urgent Sale</b></b></font></a> <font color=\"#565d60\" size=\"1\"><b><i><br/>Anchal: Bagmati (below Ba.99.pa)  |  Lot No: 65  |  Kilometers: 45000</i></b></font> <br/>Good Conditions Xr Is In Urgent Sale...  Engine Fresh 6   Kunai Extra Kharcha 6inaa Bikemaa...<br/><b>Seller:</b> <a href=\"useritems.php?user_siteid=2558243\">Rakesh</a> <img align=\"absmiddle\" height=\"12\" src=\"layout_images/ver_phone.gif\" title=\"Verified Phone\" width=\"12\"/> <font color=\"grey\" size=\"1\"> (3 ad) - Business Par, Kathmandu</font></td>,\n",
       " <td bgcolor=\"#F2F4F9\" height=\"125\" style=\"line:height:130%;\"><a href=\"i2544255-ns-200-red.html\" target=\"_blank\"><font style=\"font-size:13px;\"><b><b>Ns 200 Red</b></b></font></a> <font color=\"#565d60\" size=\"1\"><b><i><br/>Anchal: Bagmati (below Ba.99.pa)  |  Lot No: 14  |  Make Year: 2018  |  Kilometers: 19000</i></b></font> <br/>Bike Is Good Condition Person Use Office Ghar Ko Lagi Matra Use Gareko .both Tayer New Xa Bill Nai Xa Ma Sanga Battry Ne...<br/><b>Seller:</b> <a href=\"useritems.php?user_siteid=2544255\">Kishwor ghimire</a> <img align=\"absmiddle\" height=\"12\" src=\"layout_images/ver_phone.gif\" title=\"Verified Phone\" width=\"12\"/> <font color=\"grey\" size=\"1\"> (1 ad) - Koteshwor, Kathmandu</font></td>,\n",
       " <td bgcolor=\"#F2F4F9\" height=\"125\" style=\"line:height:130%;\"><a href=\"i2548923-benelli-tnt-300.html\" target=\"_blank\"><font style=\"font-size:13px;\"><b><b>Benelli Tnt 300</b></b></font></a> <font color=\"#565d60\" size=\"1\"><b><i><br/>Anchal: Bagmati (below Ba.99.pa)  |  Lot No: 74</i></b></font> <br/> Contact No:9840342010 Tyre New Xha Agadi Ko Rosso 2 Pacadi Ko Chai Change Garni Bela Hudai Xha. Pacadi Ko Pani Rosso 2 ...<br/><b>Seller:</b> <a href=\"useritems.php?user_siteid=2548923\">Manish lama</a> <img align=\"absmiddle\" height=\"12\" src=\"layout_images/ver_phone.gif\" title=\"Verified Phone\" width=\"12\"/> <font color=\"grey\" size=\"1\"> (2 ad) - Balaju, Kathmandu</font></td>,\n",
       " <td bgcolor=\"#F2F4F9\" height=\"125\" style=\"line:height:130%;\"><a href=\"i2480402-vintage-bike-on-sale.html\" target=\"_blank\"><font style=\"font-size:13px;\"><b><b>Vintage Bike On Sale</b></b></font></a> <font color=\"#565d60\" size=\"1\"><b><i><br/>Anchal: Gandaki  |  Lot No: 02  |  Make Year: 2006  |  Kilometers: 30000</i></b></font> <br/>Yo Bike Buzera Matrai Linu Hola Hai Sathi Haru...<br/><b>Seller:</b> <a href=\"useritems.php?user_siteid=2480402\">Nitesh prasad shrest</a> <img align=\"absmiddle\" height=\"12\" src=\"layout_images/ver_phone.gif\" title=\"Verified Phone\" width=\"12\"/> <font color=\"grey\" size=\"1\"> (4 ad) - Sirjana Chow, Pokhara</font></td>,\n",
       " <td bgcolor=\"#F2F4F9\" height=\"125\" style=\"line:height:130%;\"><a href=\"i2617339-220-urgent-sale-blue-colour.html\" target=\"_blank\"><font style=\"font-size:13px;\"><b><b>220 Urgent Sale Blue Colour</b></b></font></a> <font color=\"#565d60\" size=\"1\"><b><i><br/>Anchal: Bagmati (below Ba.99.pa)  |  Lot No: 56  |  Make Year: 2012</i></b></font> <br/>Looks Fresh Engine Thik Xa Tyre Hau Sopi Naya Ho Tax All Clear Xa Upto 12/78 Samma Serious Buyer Can Onli Contact Me Hai...<br/><b>Seller:</b> <a href=\"useritems.php?user_siteid=2617339\">keshav Magar</a> <img align=\"absmiddle\" height=\"12\" src=\"layout_images/ver_phone.gif\" title=\"Verified Phone\" width=\"12\"/> <font color=\"grey\" size=\"1\"> (2 ad) - Duwakot, Bhaktapur</font></td>,\n",
       " <td bgcolor=\"#F2F4F9\" height=\"125\" style=\"line:height:130%;\"><a href=\"i2439497-honda-dio-scooter.html\" target=\"_blank\"><font style=\"font-size:13px;\"><b><b>Honda Dio Scooter</b></b></font></a> <font color=\"#565d60\" size=\"1\"><b><i><br/>Anchal: Bagmati (below Ba.99.pa)  |  Lot No: 46  |  Make Year: 2015</i></b></font> <br/>Ekdam Ramro Chha Condition!...<br/><b>Seller:</b> <a href=\"useritems.php?user_siteid=2439497\">Pralhad bhakta khadk</a> <img align=\"absmiddle\" height=\"12\" src=\"layout_images/ver_phone.gif\" title=\"Verified Phone\" width=\"12\"/> <font color=\"grey\" size=\"1\"> (1 ad) - Patan Dhoka, Lalitpur</font></td>,\n",
       " <td bgcolor=\"#F2F4F9\" height=\"125\" style=\"line:height:130%;\"><a href=\"i2617761-honda-dio-73-lot.html\" target=\"_blank\"><font style=\"font-size:13px;\"><b><b>Honda Dio 73 Lot</b></b></font></a> <font color=\"#565d60\" size=\"1\"><b><i><br/>Anchal: Bagmati (below Ba.99.pa)  |  Lot No: 73  |  Make Year: 2017  |  Kilometers: 36k</i></b></font> <br/>Urgent Sale...<br/><b>Seller:</b> <a href=\"useritems.php?user_siteid=2617761\">Roshan</a> <img align=\"absmiddle\" height=\"12\" src=\"layout_images/ver_phone.gif\" title=\"Verified Phone\" width=\"12\"/> <font color=\"grey\" size=\"1\"> (1 ad) - Boudha, Kathmandu</font></td>,\n",
       " <td bgcolor=\"#F2F4F9\" height=\"125\" style=\"line:height:130%;\"><a href=\"i2617356-duke-200-bs6.html\" target=\"_blank\"><font style=\"font-size:13px;\"><b><b>Duke 200 Bs6</b></b></font></a> <font color=\"#565d60\" size=\"1\"><b><i><br/>Anchal: Pradesh 3  |  Lot No: 21  |  Make Year: 2020  |  Kilometers: 2700</i></b></font> <br/>Bike Ekdam Fresh Cha 21lot Ko Ho Dual Channel Abs Kaii Katai Scratch Chaina Ekdam Well Condition Ma Cha Gadi Lenu Lako B...<br/><b>Seller:</b> <a href=\"useritems.php?user_siteid=2617356\">arik pratap thapa</a> <img align=\"absmiddle\" height=\"12\" src=\"layout_images/ver_phone.gif\" title=\"Verified Phone\" width=\"12\"/> <font color=\"grey\" size=\"1\"> (2 ad) - Kamalbinayak, Bhaktapur</font></td>,\n",
       " <td bgcolor=\"#F2F4F9\" height=\"125\" style=\"line:height:130%;\"><a href=\"i2550753-cbr-600rr-2019.html\" target=\"_blank\"><font style=\"font-size:13px;\"><b><b>Cbr 600rr 2019</b></b></font></a> <font color=\"#565d60\" size=\"1\"><b><i><br/>Anchal: Bagmati (below Ba.99.pa)  |  Lot No: 95  |  Make Year: 2018  |  Kilometers: 4000</i></b></font> <br/>Toce Exhaust With Mid Pipe, Stock Exhaust, Bubble Visor, Tst Integrated Tail Light, Tst Front Integrated Side Light, Tim...<br/><b>Seller:</b> <a href=\"useritems.php?user_siteid=2550753\">Kritagya jung thapa</a> <img align=\"absmiddle\" height=\"12\" src=\"layout_images/ver_phone.gif\" title=\"Verified Phone\" width=\"12\"/> <font color=\"grey\" size=\"1\"> (2 ad) - Putalisadak, Kathmandu</font></td>,\n",
       " <td bgcolor=\"#F2F4F9\" height=\"125\" style=\"line:height:130%;\"><a href=\"i2599086-royal-enfield-classic-350-bullet.html\" target=\"_blank\"><font style=\"font-size:13px;\"><b><b>Royal Enfield Classic 350 Bullet</b></b></font></a> <font color=\"#565d60\" size=\"1\"><b><i><br/>Anchal: Pradesh 3  |  Lot No: 15  |  Make Year: 2020  |  Kilometers: 5700</i></b></font> <br/>Like New Fresh Condition Run Below 6k Km...<br/><b>Seller:</b> <a href=\"useritems.php?user_siteid=2599086\">Nature Electronics</a> <img align=\"absmiddle\" height=\"12\" src=\"layout_images/ver_phone.gif\" title=\"Verified Phone\" width=\"12\"/> <font color=\"grey\" size=\"1\"> (1 ad) - Kalanki, Kathmandu</font></td>]"
      ]
     },
     "execution_count": 75,
     "metadata": {},
     "output_type": "execute_result"
    }
   ],
   "source": [
    "soup.find_all('td',height=\"125\",bgcolor=\"#F2F4F9\",style=\"line:height:130%;\")"
   ]
  },
  {
   "cell_type": "code",
   "execution_count": null,
   "id": "immediate-surface",
   "metadata": {},
   "outputs": [],
   "source": []
  }
 ],
 "metadata": {
  "kernelspec": {
   "display_name": "Python 3",
   "language": "python",
   "name": "python3"
  },
  "language_info": {
   "codemirror_mode": {
    "name": "ipython",
    "version": 3
   },
   "file_extension": ".py",
   "mimetype": "text/x-python",
   "name": "python",
   "nbconvert_exporter": "python",
   "pygments_lexer": "ipython3",
   "version": "3.9.2"
  }
 },
 "nbformat": 4,
 "nbformat_minor": 5
}
