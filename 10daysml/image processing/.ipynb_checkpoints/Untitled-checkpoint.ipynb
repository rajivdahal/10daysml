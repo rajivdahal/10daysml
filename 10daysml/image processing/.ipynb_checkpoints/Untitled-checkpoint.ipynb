{
 "cells": [
  {
   "cell_type": "code",
   "execution_count": 1,
   "id": "handed-tackle",
   "metadata": {},
   "outputs": [],
   "source": [
    "import cv2"
   ]
  },
  {
   "cell_type": "code",
   "execution_count": 9,
   "id": "historic-british",
   "metadata": {},
   "outputs": [
    {
     "name": "stdout",
     "output_type": "stream",
     "text": [
      "[[[ 71  68  70]\n",
      "  [ 72  67  69]\n",
      "  [ 63  61  61]\n",
      "  ...\n",
      "  [129 143 164]\n",
      "  [126 145 166]\n",
      "  [128 147 167]]\n",
      "\n",
      " [[ 72  67  69]\n",
      "  [ 69  66  68]\n",
      "  [ 76  71  72]\n",
      "  ...\n",
      "  [131 147 170]\n",
      "  [ 84  92 105]\n",
      "  [ 93 109 127]]\n",
      "\n",
      " [[ 66  61  63]\n",
      "  [ 66  64  64]\n",
      "  [ 61  58  60]\n",
      "  ...\n",
      "  [ 95 105 121]\n",
      "  [ 94 105 113]\n",
      "  [141 164 189]]\n",
      "\n",
      " ...\n",
      "\n",
      " [[ 54  76  90]\n",
      "  [ 14  20  29]\n",
      "  [ 15  26  40]\n",
      "  ...\n",
      "  [105 140 156]\n",
      "  [129 162 178]\n",
      "  [137 176 193]]\n",
      "\n",
      " [[ 28  53  71]\n",
      "  [ 13  18  27]\n",
      "  [ 17  30  43]\n",
      "  ...\n",
      "  [128 163 178]\n",
      "  [135 170 188]\n",
      "  [149 187 201]]\n",
      "\n",
      " [[ 52  68  89]\n",
      "  [ 15  24  33]\n",
      "  [ 30  40  52]\n",
      "  ...\n",
      "  [146 179 195]\n",
      "  [149 187 201]\n",
      "  [104 128 144]]]\n"
     ]
    }
   ],
   "source": [
    "img=cv2.imread('2.jpg')\n",
    "img=cv2.resize(img,(500,500))\n",
    "print(img)\n",
    "cv2.imshow(\"image\",img)\n",
    "img1=cv2.flip(img,-2)\n",
    "cv2.imshow(\"rotated image\",img1)\n",
    "key=cv2.waitKey(0)\n",
    "cv2.destroyAllWindows()"
   ]
  },
  {
   "cell_type": "code",
   "execution_count": 7,
   "id": "seasonal-closer",
   "metadata": {},
   "outputs": [
    {
     "name": "stdout",
     "output_type": "stream",
     "text": [
      "<VideoCapture 00000146FF8DB2D0>\n"
     ]
    }
   ],
   "source": [
    "import cv2\n",
    "video=cv2.VideoCapture(\"video.mp4\")\n",
    "print(video)\n",
    "while True:\n",
    "    ret,frame=video.read()   \n",
    "    frame=cv2.resize(frame,(500,500))\n",
    "    gray=cv2.cvtColor(frame,cv2.COLOR_BGR2GRAY)\n",
    "    gray=cv2.flip(gray,0)\n",
    "    cv2.imshow(\"video\",frame)\n",
    "    cv2.imshow(\"gray video\",gray)\n",
    "    k=cv2.waitKey(25)\n",
    "    if k==ord('q'):\n",
    "        break\n",
    "video.release()\n",
    "cv2.destroyAllWindows()"
   ]
  },
  {
   "cell_type": "code",
   "execution_count": 2,
   "id": "labeled-forum",
   "metadata": {},
   "outputs": [
    {
     "name": "stdout",
     "output_type": "stream",
     "text": [
      "500\n",
      "(500, 750, 3)\n"
     ]
    },
    {
     "data": {
      "text/plain": [
       "-1"
      ]
     },
     "execution_count": 2,
     "metadata": {},
     "output_type": "execute_result"
    }
   ],
   "source": [
    "import cv2\n",
    "import numpy as np\n",
    "img=cv2.imread(\"2.jpg\")\n",
    "img1=img[:,:,0]\n",
    "img2=img[:,:,1]\n",
    "img3=img[:,:,2]\n",
    "#new_image=np.hstack((img1,img2,img3))\n",
    "#new_image=cv2.resize(new_image,(1000,700))\n",
    "img=cv2.resize(img,(img.shape[1]//8,img.shape[0]//8))\n",
    "#cv2.imshow(\"new_image\",img)\n",
    "print(img.shape[0])\n",
    "print(img.shape)\n",
    "cv2.imshow(\"image\",img)\n",
    "cv2.waitKey(0)\n"
   ]
  },
  {
   "cell_type": "code",
   "execution_count": 8,
   "id": "analyzed-clark",
   "metadata": {},
   "outputs": [],
   "source": [
    "import cv2\n",
    "import numpy as np\n",
    "img=cv2.imread(\"2.jpg\")\n",
    "croppedImage=img[0:600,100:600]\n",
    "cv2.rectangle(img,pt1=(100,100),pt2=(400,400),color=(0,255,0),thickness=3)\n",
    "cv2.circle(img,center=(500,500),radius=50,color=(255,0,0),thickness=-1)\n",
    "cv2.imshow(\"croppedImage\",croppedImage)\n",
    "k=cv2.waitKey(0)\n",
    "    "
   ]
  },
  {
   "cell_type": "code",
   "execution_count": 5,
   "id": "western-death",
   "metadata": {},
   "outputs": [
    {
     "name": "stdout",
     "output_type": "stream",
     "text": [
      "sakjdba\n",
      "sakjdba\n",
      "sakjdba\n",
      "sakjdba\n",
      "sakjdba\n",
      "sakjdba\n",
      "sakjdba\n",
      "sakjdba\n",
      "sakjdba\n"
     ]
    }
   ],
   "source": [
    "import cv2\n",
    "import numpy as np\n",
    "\n",
    "\n",
    "def draw(events,x,y,flags,params):\n",
    "   \n",
    "    if events==1:\n",
    "        cv2.circle(resized_image,(x,y),100,(255,0,255),2)\n",
    "        print(\"sakjdba\")\n",
    "        \n",
    "cv2.namedWindow(winname=\"image\")        \n",
    "cv2.setMouseCallback(\"image\",draw) \n",
    "\n",
    "img=cv2.imread(\"2.jpg\")\n",
    "resized_image=cv2.resize(img,(1200,700))\n",
    "\n",
    "\n",
    "while True:\n",
    "    cv2.imshow(\"image\",resized_image)\n",
    "    if cv2.waitKey(1) & 0xFF==ord('q'):\n",
    "        break\n",
    "cv2.destroyAllWindows()"
   ]
  },
  {
   "cell_type": "code",
   "execution_count": 33,
   "id": "unauthorized-minneapolis",
   "metadata": {},
   "outputs": [],
   "source": [
    "import cv2\n",
    "import numpy as np\n",
    "\n",
    "ff=False\n",
    "x_in=-1\n",
    "y_in=-1\n",
    "def draw(event,x,y,flag,params):\n",
    "    global x_in,y_in,ff\n",
    "    if event==1:\n",
    "        ff=True\n",
    "        x_in=x\n",
    "        y_in=y\n",
    "    elif event==4:\n",
    "        ff=False\n",
    "        cv2.rectangle(image,(x_in,y_in),(x,y),(255,0,0),1)\n",
    "        new_image=image[y_in:y,x_in:x]\n",
    "        cv2.imshow('new_image',new_image)\n",
    "        cv2.imwrite(\"cropped_image.jpg\",new_image)\n",
    "        cv2.waitKey(0)\n",
    "        \n",
    "cv2.namedWindow(winname=\"image\")\n",
    "cv2.setMouseCallback(\"image\",draw)\n",
    "        \n",
    "        \n",
    "\n",
    "image=cv2.imread(\"2.jpg\")\n",
    "image=cv2.resize(image,(1000,600))\n",
    "while True:\n",
    "    cv2.imshow(\"image\",image)\n",
    "    if cv2.waitKey(1) & 0xFF==ord(\"e\"):\n",
    "        break\n",
    "cv2.destroyAllWindows()        \n",
    "\n",
    "\n"
   ]
  },
  {
   "cell_type": "code",
   "execution_count": 35,
   "id": "documentary-suicide",
   "metadata": {},
   "outputs": [
    {
     "data": {
      "text/plain": [
       "-1"
      ]
     },
     "execution_count": 35,
     "metadata": {},
     "output_type": "execute_result"
    }
   ],
   "source": [
    "import cv2\n",
    "import numpy as np\n",
    "image=cv2.imread(\"2.jpg\")\n",
    "image=cv2.resize(image,(1000,600))\n",
    "cv2.line(image,(-1,-1),(100,100),thickness=2,color=(0,255,255))\n",
    "cv2.imshow(\"image\",image)\n",
    "cv2.waitKey(0)"
   ]
  },
  {
   "cell_type": "code",
   "execution_count": 5,
   "id": "wireless-payday",
   "metadata": {},
   "outputs": [],
   "source": [
    "import cv2\n",
    "import numpy as np\n",
    "video=cv2.VideoCapture(0)\n",
    "fourcc=cv2.VideoWriter_fourcc(*'XVID')\n",
    "out=cv2.VideoWriter('output.avi',fourcc,20.0,(640,480))\n",
    "while True:\n",
    "    ret,frame=video.read()\n",
    "    frame=cv2.cvtColor(frame,cv2.COLOR_BGR2GRAY)\n",
    "    out.write(frame)\n",
    "    cv2.imshow(\"video\",frame)\n",
    "    if cv2.waitKey(1) & 0xFF==ord(\"x\"):\n",
    "        break\n",
    "out.release()        \n",
    "cv2.destroyAllWindows()        "
   ]
  },
  {
   "cell_type": "code",
   "execution_count": 10,
   "id": "residential-pencil",
   "metadata": {},
   "outputs": [],
   "source": [
    "import cv2\n",
    "import time\n",
    "video=cv2.VideoCapture(\"video.mp4\")\n",
    "while True:\n",
    "    ret,frame=video.read()\n",
    "    cv2.imshow(\"video\",frame)\n",
    "    if cv2.waitKey(1) & 0xFF==ord(\"q\"):\n",
    "        break\n",
    "cv2.destroyAllWindows()        "
   ]
  },
  {
   "cell_type": "code",
   "execution_count": 12,
   "id": "sharp-lawyer",
   "metadata": {},
   "outputs": [],
   "source": [
    "import cv2\n",
    "import pafy\n",
    "import time\n",
    "url=\"https://youtu.be/PAuco4ehQUE\"\n",
    "data=pafy.new(url)\n",
    "data=data.getbest(preftype=\"mp4\")\n",
    "video=cv2.VideoCapture(0)\n",
    "video.open(data.url)\n",
    "\n",
    "while True:\n",
    "    ret,frame=video.read()\n",
    "    time.sleep(1/10)\n",
    "    cv2.imshow(\"video\",frame)\n",
    "    if cv2.waitKey(1) & 0xFF==ord(\"q\"):\n",
    "        break\n",
    "video.release()\n",
    "cv2.destroyAllWindows()\n"
   ]
  },
  {
   "cell_type": "code",
   "execution_count": 15,
   "id": "young-lyric",
   "metadata": {},
   "outputs": [
    {
     "name": "stdout",
     "output_type": "stream",
     "text": [
      "Requirement already satisfied: pyautogui in c:\\users\\mr.d\\anaconda3\\envs\\10daysml\\lib\\site-packages (0.9.52)\n",
      "Requirement already satisfied: pygetwindow>=0.0.5 in c:\\users\\mr.d\\anaconda3\\envs\\10daysml\\lib\\site-packages (from pyautogui) (0.0.9)\n",
      "Requirement already satisfied: pyscreeze>=0.1.21 in c:\\users\\mr.d\\anaconda3\\envs\\10daysml\\lib\\site-packages (from pyautogui) (0.1.27)\n",
      "Requirement already satisfied: PyTweening>=1.0.1 in c:\\users\\mr.d\\anaconda3\\envs\\10daysml\\lib\\site-packages (from pyautogui) (1.0.3)\n",
      "Requirement already satisfied: mouseinfo in c:\\users\\mr.d\\anaconda3\\envs\\10daysml\\lib\\site-packages (from pyautogui) (0.1.3)\n",
      "Requirement already satisfied: pymsgbox in c:\\users\\mr.d\\anaconda3\\envs\\10daysml\\lib\\site-packages (from pyautogui) (1.0.9)\n",
      "Requirement already satisfied: pyrect in c:\\users\\mr.d\\anaconda3\\envs\\10daysml\\lib\\site-packages (from pygetwindow>=0.0.5->pyautogui) (0.1.4)\n",
      "Requirement already satisfied: pyperclip in c:\\users\\mr.d\\anaconda3\\envs\\10daysml\\lib\\site-packages (from mouseinfo->pyautogui) (1.8.2)\n"
     ]
    }
   ],
   "source": [
    "!pip install pyautogui\n"
   ]
  },
  {
   "cell_type": "code",
   "execution_count": 2,
   "id": "handed-outline",
   "metadata": {},
   "outputs": [],
   "source": [
    "import cv2 \n",
    "import pyautogui as p\n",
    "import numpy as np\n",
    "\n",
    "rs=p.size()\n",
    "fourcc=cv2.VideoWriter_fourcc(*\"XVID\")\n",
    "out=cv2.VideoWriter(\"output.avi\",fourcc,20.0,rs)\n",
    "while True:\n",
    "    img=p.screenshot()\n",
    "    f=np.array(img)\n",
    "    out.write(f)\n",
    "    cv2.imshow(\"live recording\",f)\n",
    "    if cv2.waitKey(1) & 0xFF==ord(\"x\"):\n",
    "        break\n",
    "out.release()\n",
    "cv2.destroyAllWindows()"
   ]
  },
  {
   "cell_type": "code",
   "execution_count": 2,
   "id": "olive-roman",
   "metadata": {},
   "outputs": [],
   "source": [
    "import cv2\n",
    "video=cv2.VideoCapture(\"video.mp4\")\n",
    "ret,frame=video.read()\n",
    "count=1\n",
    "\n",
    "while True:\n",
    "    cv2.imwrite(\"frames\\img_N%d.jpg\"%count,frame)\n",
    "    count+=1\n",
    "    video.set(cv2.CAP_PROP_POS_MSEC,(count*100))\n",
    "    ret,frame=video.read()\n",
    "    cv2.imshow(\"frame\",frame)\n",
    "    if cv2.waitKey(1) & 0xFF==ord('q'):\n",
    "        break\n",
    "video.release()\n",
    "cv2.destroyAllWindows()\n",
    "    \n",
    "    "
   ]
  },
  {
   "cell_type": "markdown",
   "id": "northern-garage",
   "metadata": {},
   "source": [
    "# writing in video(size of video and current time )"
   ]
  },
  {
   "cell_type": "code",
   "execution_count": 8,
   "id": "balanced-crowd",
   "metadata": {},
   "outputs": [
    {
     "name": "stdout",
     "output_type": "stream",
     "text": [
      "width== 640.0\n",
      "height== 480.0\n"
     ]
    }
   ],
   "source": [
    "import datetime\n",
    "import cv2\n",
    "video=cv2.VideoCapture(\"video.mp4\")\n",
    "#video=cv2.VideoCapture(0)  for opening webcam and doing same task\n",
    "print(\"width==\",video.get(3))# 3 is for width section\n",
    "print(\"height==\",video.get(4))# 4 is for height section\n",
    "while True:\n",
    "    ret,frame=video.read()\n",
    "    date=str(datetime.datetime.now())\n",
    "    text=\"height:\"+str(video.get(3))+\"width:\"+str(video.get(4))\n",
    "    cv2.putText(frame,org=(100,100),fontScale=1,color=(0,255,0),thickness=1,lineType=cv2.LINE_AA,text=text,fontFace=cv2.FONT_ITALIC)\n",
    "    cv2.putText(frame,org=(100,150),fontScale=1,color=(0,255,0),thickness=1,lineType=cv2.LINE_AA,text=date,fontFace=cv2.FONT_ITALIC)\n",
    "    \n",
    "    cv2.imshow(\"frame\",frame)\n",
    "    if cv2.waitKey(20) & 0xFF==ord(\"q\"):\n",
    "        break\n",
    "video.release()\n",
    "cv2.destroyAllWindows()\n"
   ]
  },
  {
   "cell_type": "markdown",
   "id": "willing-insurance",
   "metadata": {},
   "source": [
    "# finding color and coordinate of each pixel while clicking in image"
   ]
  },
  {
   "cell_type": "code",
   "execution_count": 7,
   "id": "immediate-drill",
   "metadata": {},
   "outputs": [],
   "source": [
    "import cv2\n",
    "\n",
    "def mouseclick(events,x,y,flags,params):\n",
    "    if events==cv2.EVENT_LBUTTONDOWN:\n",
    "        coordinate=\"coordinate is:\"+\"(\"+str(x)+\",\"+str(y)+\")\"\n",
    "        cv2.putText(img,org=(x,y),fontScale=1,color=(0,255,255),thickness=1,lineType=cv2.LINE_AA,text=coordinate,fontFace=cv2.FONT_ITALIC)\n",
    "        \n",
    "    if events==cv2.EVENT_RBUTTONDOWN:\n",
    "        b=img[y,x,0]\n",
    "        g=img[y,x,1]\n",
    "        r=img[y,x,2]\n",
    "        color=\"(\"+str(b)+\",\"+str(g)+\",\"+str(r)+\")\"\n",
    "        cv2.putText(img,org=(x,y),fontScale=1,color=(0,255,255),thickness=1,lineType=cv2.LINE_AA,text=color,fontFace=cv2.FONT_ITALIC)\n",
    "            \n",
    "   \n",
    "cv2.namedWindow(winname=\"image\")\n",
    "cv2.setMouseCallback(\"image\",mouseclick)\n",
    "img=cv2.imread(\"2.jpg\")\n",
    "\n",
    "while True:\n",
    "    cv2.imshow(\"image\",img)\n",
    "    if cv2.waitKey(1) & 0xFF==ord(\"q\"):\n",
    "        break\n",
    "cv2.destroyAllWindows()    \n"
   ]
  },
  {
   "cell_type": "markdown",
   "id": "common-excerpt",
   "metadata": {},
   "source": [
    "# making slider and manipulating color"
   ]
  },
  {
   "cell_type": "code",
   "execution_count": 5,
   "id": "hairy-shuttle",
   "metadata": {},
   "outputs": [],
   "source": [
    "import cv2\n",
    "def cross(x):\n",
    "    pass\n",
    "image=cv2.imread(\"2.jpg\")\n",
    "image=cv2.resize(image,(1000,700))\n",
    "cv2.namedWindow(\"imagewindow\")\n",
    "s1=\"0:On 1:off\"\n",
    "cv2.createTrackbar(s1,\"imagewindow\",0,1,cross) # s1 ma curent slider ko value store huncha\n",
    "cv2.createTrackbar(\"B\",\"imagewindow\",0,255,cross) # B ma current slider ko value store huncha and so on\n",
    "cv2.createTrackbar(\"y\",\"imagewindow\",0,255,cross)\n",
    "cv2.createTrackbar(\"R\",\"imagewindow\",0,255,cross)\n",
    "\n",
    "\n",
    "while True:\n",
    "    cv2.imshow(\"imagewindow\",image)\n",
    "    s=cv2.getTrackbarPos(s1,\"imagewindow\") # it will access the value of s1 stored in upper variable\n",
    "    b=cv2.getTrackbarPos(\"B\",\"imagewindow\") # access the value of B stored upped else : if B is written will get 255 value of B\n",
    "    g=cv2.getTrackbarPos(\"y\",\"imagewindow\")# access the value of y stored upped else : if G is written will get 255 value of G\n",
    "    r=cv2.getTrackbarPos(\"R\",\"imagewindow\")# access the value of R stored upped else : if R is written will get 255 value of \n",
    "    if s==0:\n",
    "        image[:]=255\n",
    "    else:\n",
    "        image[:]=[b,g,r]\n",
    "    if cv2.waitKey(1) & 0xFF==ord('q'):\n",
    "        break\n",
    "cv2.destroyAllWindows()"
   ]
  },
  {
   "cell_type": "markdown",
   "id": "electric-geography",
   "metadata": {},
   "source": [
    "# manipulating pixels and finding each channel of color from image"
   ]
  },
  {
   "cell_type": "code",
   "execution_count": 18,
   "id": "explicit-norman",
   "metadata": {},
   "outputs": [
    {
     "name": "stdout",
     "output_type": "stream",
     "text": [
      "(500, 500, 3)\n",
      "750000\n",
      "blue [[ 71  72  63 ... 129 126 128]\n",
      " [ 72  69  76 ... 131  84  93]\n",
      " [ 66  66  61 ...  95  94 141]\n",
      " ...\n",
      " [ 54  14  15 ... 105 129 137]\n",
      " [ 28  13  17 ... 128 135 149]\n",
      " [ 52  15  30 ... 146 149 104]]\n",
      "green [[ 68  67  61 ... 143 145 147]\n",
      " [ 67  66  71 ... 147  92 109]\n",
      " [ 61  64  58 ... 105 105 164]\n",
      " ...\n",
      " [ 76  20  26 ... 140 162 176]\n",
      " [ 53  18  30 ... 163 170 187]\n",
      " [ 68  24  40 ... 179 187 128]]\n",
      "red [[ 70  69  61 ... 164 166 167]\n",
      " [ 69  68  72 ... 170 105 127]\n",
      " [ 63  64  60 ... 121 113 189]\n",
      " ...\n",
      " [ 90  29  40 ... 156 178 193]\n",
      " [ 71  27  43 ... 178 188 201]\n",
      " [ 89  33  52 ... 195 201 144]]\n"
     ]
    },
    {
     "data": {
      "text/plain": [
       "-1"
      ]
     },
     "execution_count": 18,
     "metadata": {},
     "output_type": "execute_result"
    }
   ],
   "source": [
    "import cv2\n",
    "img=cv2.imread(\"2.jpg\")\n",
    "img=cv2.resize(img,(500,500))\n",
    "print(img.shape)\n",
    "print(img.size)\n",
    "cv2.imshow(\"image\",img)\n",
    "\n",
    "b,g,r=cv2.split(img)\n",
    "print(\"blue\",b)\n",
    "print(\"green\",g)\n",
    "print(\"red\",r)\n",
    "#cv2.imshow(\"blue\",b)\n",
    "#cv2.imshow(\"green\",g)\n",
    "#cv2.imshow(\"red\",r)\n",
    "merge_image=cv2.merge((r,g,b))\n",
    "merge_image1=cv2.merge((b,g,r))\n",
    "merge_image2=cv2.merge((g,r,b))\n",
    "cv2.imshow(\"merge_image\",merge_image)\n",
    "cv2.imshow(\"merge_image1\",merge _image1)\n",
    "cv2.imshow(\"merge_image2\",merge_image2)\n",
    "cv2.waitKey(0)\n"
   ]
  },
  {
   "cell_type": "code",
   "execution_count": null,
   "id": "antique-fraction",
   "metadata": {},
   "outputs": [],
   "source": []
  },
  {
   "cell_type": "markdown",
   "id": "consolidated-grain",
   "metadata": {},
   "source": [
    "# placing content of pixel to next pixel-similar to cloning  "
   ]
  },
  {
   "cell_type": "markdown",
   "id": "complex-submission",
   "metadata": {},
   "source": [
    "concept of slicing"
   ]
  },
  {
   "cell_type": "code",
   "execution_count": 1,
   "id": "opened-parish",
   "metadata": {},
   "outputs": [],
   "source": [
    "import cv2\n",
    "\n",
    "def mouse(events,x,y,flags,params):\n",
    "    if events==cv2.EVENT_LBUTTONDOWN:\n",
    "        coordinate=str(x)+\",\"+str(y)\n",
    "        cv2.putText(img,org=(x,y),fontScale=1,color=(0,255,255),thickness=1,lineType=cv2.LINE_AA,text=coordinate,fontFace=cv2.FONT_ITALIC)\n",
    "\n",
    "        \n",
    "cv2.namedWindow(winname=\"image\")\n",
    "cv2.setMouseCallback(\"image\",mouse)  \n",
    "img=cv2.imread(\"2.jpg\")\n",
    "img=cv2.resize(img,(1000,500))\n",
    "while True:\n",
    "    cv2.imshow(\"image\",img)\n",
    "    cv2.imshow(\"image1\",img)\n",
    "    roi=img[173:254,578:746]\n",
    "    img[173:254,578+168:746+168]=roi\n",
    "    img[173:254,578-168:746-168]=roi\n",
    "    if cv2.waitKey(1) & 0xFF==ord(\"q\"):\n",
    "        break\n",
    "    \n",
    "cv2.destroyAllWindows()\n"
   ]
  },
  {
   "cell_type": "markdown",
   "id": "deluxe-bowling",
   "metadata": {},
   "source": [
    "# making border"
   ]
  },
  {
   "cell_type": "code",
   "execution_count": 3,
   "id": "miniature-minimum",
   "metadata": {},
   "outputs": [],
   "source": [
    "import cv2\n",
    "img=cv2.imread(\"2.jpg\")\n",
    "img=cv2.resize(img,(1000,500))\n",
    "border=cv2.copyMakeBorder(img,10,10,10,10,cv2.BORDER_CONSTANT,value=[0,255,0]) # t,b,r,l and value is color of border\n",
    "cv2.imshow(\"image\",border)\n",
    "cv2.waitKey(0)\n",
    "cv2.destroyAllWindows()"
   ]
  },
  {
   "cell_type": "markdown",
   "id": "exceptional-nevada",
   "metadata": {},
   "source": [
    "# Blending of two images"
   ]
  },
  {
   "cell_type": "code",
   "execution_count": 9,
   "id": "governing-yellow",
   "metadata": {},
   "outputs": [],
   "source": [
    "import cv2\n",
    "import numpy\n",
    "img1=cv2.imread(\"thor1.jpg\")\n",
    "img1=cv2.resize(img1,(500,500))\n",
    "img2=cv2.imread(\"saved.jpg\")\n",
    "img2=cv2.resize(img2,(500,500))\n",
    "img3=cv2.add(img1,img2)\n",
    "img4=cv2.addWeighted(img1,0.2,img2,0.8,0)\n",
    "\n",
    "cv2.imshow(\"image\",img3)\n",
    "cv2.imshow(\"image1\",img4)\n",
    "\n",
    "cv2.waitKey(0)\n",
    "cv2.destroyAllWindows()"
   ]
  },
  {
   "cell_type": "markdown",
   "id": "political-mechanics",
   "metadata": {},
   "source": [
    "# blending two images using trackbar(project)"
   ]
  },
  {
   "cell_type": "code",
   "execution_count": 1,
   "id": "rotary-charleston",
   "metadata": {},
   "outputs": [],
   "source": [
    "import cv2\n",
    "import numpy as np\n",
    "\n",
    "def blend(x):\n",
    "    pass\n",
    "\n",
    "img1=cv2.imread(\"thor1.jpg\")\n",
    "img1=cv2.resize(img1,(500,500))\n",
    "img2=cv2.imread(\"saved.jpg\")\n",
    "img2=cv2.resize(img2,(500,500))\n",
    "img_for_trackbar=np.zeros((400,40,3),np.uint8)\n",
    "img_for_trackbar=cv2.resize(img_for_trackbar,(500,500))\n",
    "\n",
    "cv2.namedWindow(\"slider\")\n",
    "cv2.namedWindow(\"show\")\n",
    "\n",
    "s=\"0:on||1:off\"\n",
    "cv2.createTrackbar(s,\"slider\",0,1,blend)\n",
    "cv2.createTrackbar(\"alpha\",\"slider\",0,100,blend)\n",
    "\n",
    "while True:\n",
    "    spos=cv2.getTrackbarPos(s,\"slider\")\n",
    "    alpha=cv2.getTrackbarPos(\"alpha\",\"slider\")\n",
    "    n=alpha/100\n",
    "    if s==0:\n",
    "        show=img1[:]\n",
    "    else:\n",
    "        show=cv2.addWeighted(img1,1-n,img2,n,0)\n",
    "    cv2.imshow(\"slider\",img_for_trackbar)\n",
    "    cv2.imshow(\"show\",show)\n",
    "    \n",
    "    if cv2.waitKey(1) & 0xFF==ord(\"q\"):\n",
    "        break\n",
    "cv2.destroyAllWindows()        \n",
    "    \n",
    "    \n",
    "    \n",
    "    \n"
   ]
  },
  {
   "cell_type": "markdown",
   "id": "decimal-wiring",
   "metadata": {},
   "source": [
    "# bitwise operation-basics"
   ]
  },
  {
   "cell_type": "code",
   "execution_count": 11,
   "id": "fleet-purchase",
   "metadata": {},
   "outputs": [],
   "source": [
    "import cv2\n",
    "img1=np.zeros((500,500,3),np.uint8)\n",
    "img2=np.zeros((500,500,3),np.uint8)\n",
    "cv2.rectangle(img1,(200,200),(300,300),(255,255,255),-1)\n",
    "cv2.rectangle(img2,(250,250),(400,400),(255,255,255),-1)\n",
    "#bit_and=cv2.bitwise_and(img2,img1)\n",
    "#bit_or=cv2.bitwise_or(img2,img1)\n",
    "#bit_not=cv2.bitwise_not(img2)\n",
    "bit_xor=cv2.bitwise_xor(img2,img1)\n",
    "cv2.imshow(\"window1\",img1)\n",
    "cv2.imshow(\"window2\",img2)\n",
    "cv2.imshow(\"window3\",bit_xor)\n",
    "cv2.waitKey(0)\n",
    "cv2.destroyAllWindows()"
   ]
  },
  {
   "cell_type": "markdown",
   "id": "wired-diagram",
   "metadata": {},
   "source": [
    "#  masking by bitwise operator (selecting specific color only and displaying specific portion of image)"
   ]
  },
  {
   "cell_type": "code",
   "execution_count": 11,
   "id": "premium-holder",
   "metadata": {},
   "outputs": [],
   "source": [
    "import cv2\n",
    "import numpy as np\n",
    "image=cv2.imread(\"colorballs.jpg\")\n",
    "image=cv2.resize(image,(500,500))\n",
    "while True:\n",
    "    hsv_image=cv2.cvtColor(image,cv2.COLOR_BGR2HSV)\n",
    "    upper_value=np.array([255, 26, 0])\n",
    "    lower_value=np.array([110, 11, 0])\n",
    "    mask=cv2.inRange(hsv_image,lower_value,upper_value)\n",
    "    res=cv2.bitwise_and(image,image,mask=mask)\n",
    "    cv2.imshow(\"wind3\",image)\n",
    "    cv2.imshow(\"wind2\",mask)\n",
    "    \n",
    "    cv2.imshow(\"wind\",res)\n",
    "    if cv2.waitKey(1) & 0xFF==ord(\"q\"):\n",
    "        break\n",
    "    \n",
    "cv2.destroyAllWindows()"
   ]
  },
  {
   "cell_type": "markdown",
   "id": "former-pension",
   "metadata": {},
   "source": [
    "# masking and filtering using trackbar"
   ]
  },
  {
   "cell_type": "code",
   "execution_count": null,
   "id": "backed-dover",
   "metadata": {},
   "outputs": [],
   "source": [
    "import cv2\n",
    "import numpy as np\n",
    "image=cv2.imread(\"colorballs.jpg\")\n",
    "image=cv2.resize(image,(500,500))\n",
    "cv2.namedWindow(\"trackbar\")\n",
    "def nothing(x):\n",
    "    pass\n",
    "lower_hue=cv2.createTrackbar(\"lower_hue\",\"trackbar\",0,255,nothing)#lower badhdai jancha so 0 bata 255\n",
    "lower_saturation=cv2.createTrackbar(\"lower_saturation\",\"trackbar\",0,255,nothing)\n",
    "lower_value=cv2.createTrackbar(\"lower_value\",\"trackbar\",0,255,nothing)\n",
    "upper_hue=cv2.createTrackbar(\"upper_hue\",\"trackbar\",255,255,nothing) #upper ghatdai jancha so 255,255\n",
    "upper_saturation=cv2.createTrackbar(\"upper_saturation\",\"trackbar\",255,255,nothing)\n",
    "upper_value=cv2.createTrackbar(\"upper_value\",\"trackbar\",255,255,nothing)\n",
    "\n",
    "\n",
    "while True:\n",
    "    hsv_image=cv2.cvtColor(image,cv2.COLOR_BGR2HSV)\n",
    "    \n",
    "    lower_hue_value=cv2.getTrackbarPos(\"lower_hue\",\"trackbar\")\n",
    "    lower_saturation_value=cv2.getTrackbarPos(\"lower_saturation\",\"trackbar\")\n",
    "    lower_value_value=cv2.getTrackbarPos(\"lower_value\",\"trackbar\")\n",
    "    upper_hue_value=cv2.getTrackbarPos(\"upper_hue\",\"trackbar\")\n",
    "    upper_saturation_value=cv2.getTrackbarPos(\"upper_saturation\",\"trackbar\")\n",
    "    upper_value_value=cv2.getTrackbarPos(\"upper_value\",\"trackbar\")\n",
    "    \n",
    "    lower_bound=np.array([lower_hue_value,lower_saturation_value,lower_value_value])\n",
    "    upper_bound=np.array([upper_hue_value,upper_saturation_value,upper_value_value])\n",
    "    mask=cv2.inRange(hsv_image,lower_bound,upper_bound)\n",
    "    final=cv2.bitwise_and(image,image,mask=mask)\n",
    "    cv2.imshow(\"original_image\",image)\n",
    "    cv2.imshow(\"mask\",mask)\n",
    "    cv2.imshow(\"final\",final)\n",
    "    \n",
    "    if cv2.waitKey(1) & 0xFF==ord(\"q\"):\n",
    "        break\n",
    "cv2.destroyAllWindows()        \n",
    "    \n",
    "    \n",
    "    \n",
    "    \n",
    "    \n"
   ]
  },
  {
   "cell_type": "code",
   "execution_count": null,
   "id": "trained-electron",
   "metadata": {},
   "outputs": [],
   "source": []
  }
 ],
 "metadata": {
  "kernelspec": {
   "display_name": "Python 3",
   "language": "python",
   "name": "python3"
  },
  "language_info": {
   "codemirror_mode": {
    "name": "ipython",
    "version": 3
   },
   "file_extension": ".py",
   "mimetype": "text/x-python",
   "name": "python",
   "nbconvert_exporter": "python",
   "pygments_lexer": "ipython3",
   "version": "3.9.2"
  }
 },
 "nbformat": 4,
 "nbformat_minor": 5
}
